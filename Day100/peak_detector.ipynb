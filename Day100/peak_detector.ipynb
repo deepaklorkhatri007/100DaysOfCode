{
 "cells": [
  {
   "cell_type": "code",
   "execution_count": 1,
   "metadata": {},
   "outputs": [
    {
     "data": {
      "text/plain": [
       "7"
      ]
     },
     "execution_count": 1,
     "metadata": {},
     "output_type": "execute_result"
    }
   ],
   "source": [
    "# 1D signal peak finder\n",
    "# MIT 6.006 - lecture 1\n",
    "# Author: Deepak Khatri\n",
    "signal_input = [6, 7, 4, 3, 2, 1, 4, 5]\n",
    "\n",
    "def peak(signal):\n",
    "    n = len(signal)\n",
    "    start = n//2\n",
    "    if (start - 1)>0 and signal[start]<signal[start - 1]:\n",
    "        return peak(signal[:start])\n",
    "    elif (start+1)<n and signal[start] < signal[start+1]:\n",
    "        return peak(signal[start:])\n",
    "    else:\n",
    "        return signal[start]\n",
    "peak(signal_input)\n"
   ]
  },
  {
   "cell_type": "code",
   "execution_count": 2,
   "metadata": {},
   "outputs": [
    {
     "data": {
      "text/plain": [
       "20"
      ]
     },
     "execution_count": 2,
     "metadata": {},
     "output_type": "execute_result"
    }
   ],
   "source": [
    "# 2D signal peak finder\n",
    "# MIT 6.006 - lecture 1\n",
    "# Author : Deepak Khatri\n",
    "\n",
    "grid = [\n",
    "    [2, 3, 10, 9],\n",
    "    [14, 13, 12, 7],\n",
    "    [15, 9, 11, 4],\n",
    "    [16, 17, 19, 20]\n",
    "]\n",
    "\n",
    "def peak2d(signal):\n",
    "    n = len(signal)\n",
    "    m = len(signal[0])\n",
    "    j = m//2\n",
    "    peak = 0\n",
    "    col = [signal[k][j] for k in range(n)]\n",
    "    i = col.index(max(col))\n",
    "    right, left = zip(*[(s[:j+1], s[j:]) for s in signal])\n",
    "    if (j-1)>0 and signal[i][j]< signal[i][j-1]:\n",
    "        return peak2d(right)\n",
    "    elif (j+1)<m and signal[i][j]< signal[i][j+1]:\n",
    "        return peak2d(left)\n",
    "    else:\n",
    "        return max(col)\n",
    "        \n",
    "peak2d(grid)"
   ]
  }
 ],
 "metadata": {
  "kernelspec": {
   "display_name": "Python 3",
   "language": "python",
   "name": "python3"
  },
  "language_info": {
   "codemirror_mode": {
    "name": "ipython",
    "version": 3
   },
   "file_extension": ".py",
   "mimetype": "text/x-python",
   "name": "python",
   "nbconvert_exporter": "python",
   "pygments_lexer": "ipython3",
   "version": "3.7.4"
  }
 },
 "nbformat": 4,
 "nbformat_minor": 4
}
