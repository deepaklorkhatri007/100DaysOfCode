{
 "cells": [
  {
   "cell_type": "markdown",
   "metadata": {},
   "source": [
    "# Flow control and logic 1"
   ]
  },
  {
   "cell_type": "code",
   "execution_count": 1,
   "metadata": {},
   "outputs": [
    {
     "name": "stdout",
     "output_type": "stream",
     "text": [
      "h-bar value is crippled, correcting it\n",
      "plank's value (h) is :  6.626064002501399e-34\n"
     ]
    }
   ],
   "source": [
    "# Conditional are the simplest type of flow control\n",
    "h_bar = 1.0\n",
    "\n",
    "if h_bar == 1.0:\n",
    "    print(\"h-bar value is crippled, correcting it\")\n",
    "    h_bar = 1.05457173e-34\n",
    "    \n",
    "h = h_bar*2*3.14159\n",
    "print(\"plank's value (h) is : \",h) "
   ]
  },
  {
   "cell_type": "code",
   "execution_count": 2,
   "metadata": {},
   "outputs": [
    {
     "name": "stdout",
     "output_type": "stream",
     "text": [
      "greetings, deepak\n"
     ]
    }
   ],
   "source": [
    "# if-else statements\n",
    "name = \"deepak\"\n",
    "\n",
    "if name:\n",
    "    print(\"greetings,\",name)\n",
    "else:\n",
    "    print(\"ello! earthling\")"
   ]
  },
  {
   "cell_type": "code",
   "execution_count": 3,
   "metadata": {},
   "outputs": [
    {
     "name": "stdout",
     "output_type": "stream",
     "text": [
      "Hey, deepak code bruh.\n"
     ]
    }
   ],
   "source": [
    "# if-elif-else statements\n",
    "if name == \"deepak\":\n",
    "    print(\"Hey,\",name, \"code bruh.\")\n",
    "elif name:\n",
    "    print(\"wassup,\",name)\n",
    "else:\n",
    "    print(\"ello!\", name)"
   ]
  },
  {
   "cell_type": "code",
   "execution_count": 4,
   "metadata": {},
   "outputs": [
    {
     "data": {
      "text/plain": [
       "1.05457173e-34"
      ]
     },
     "execution_count": 4,
     "metadata": {},
     "output_type": "execute_result"
    }
   ],
   "source": [
    "# if-else expression, fills like condition?x:y\n",
    "h_bar = 1.0\n",
    "h_bar = 1.05457173e-34 if h_bar == 1.0 else h_bar\n",
    "h_bar"
   ]
  }
 ],
 "metadata": {
  "kernelspec": {
   "display_name": "Python 3",
   "language": "python",
   "name": "python3"
  },
  "language_info": {
   "codemirror_mode": {
    "name": "ipython",
    "version": 3
   },
   "file_extension": ".py",
   "mimetype": "text/x-python",
   "name": "python",
   "nbconvert_exporter": "python",
   "pygments_lexer": "ipython3",
   "version": "3.7.3"
  }
 },
 "nbformat": 4,
 "nbformat_minor": 2
}
