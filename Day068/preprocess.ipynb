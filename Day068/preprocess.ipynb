{
 "cells": [
  {
   "cell_type": "markdown",
   "metadata": {},
   "source": [
    "<h2 style=\"text-align:center\">Sequence search with preprocessing</h2>\n",
    "<h3 style=\"text-align:center\">Author : Deepak Khatri</h3>\n",
    "<p>This way of searching for a seqence is faster than the frame shift method.</p>\n",
    "<pre>\n",
    "Algorithm:\n",
    "<code>\n",
    "Step 1: find all the position in seqence that match searchseqence[0] \n",
    "i.e first letter of the string we are searching for in the original seqence. \n",
    "And save all the position in a list. this stem is called the preprocessing step.\n",
    "\n",
    "Step 2: use the position from step 1 and match the second letter of searchseqence in sequence only at positions + 1. \n",
    "if not found remove the position from the list.\n",
    "\n",
    "Step 3: move on with repeating for position 3 to length of searchsequence i.e repeat Step 2 until the string found.\n",
    "\n",
    "Step 4: either we find the string else we return an appropriate error message.\n",
    "</code>\n",
    "</pre> "
   ]
  },
  {
   "cell_type": "code",
   "execution_count": 1,
   "metadata": {},
   "outputs": [],
   "source": [
    "# data\n",
    "seq=\"MOPMOUNTAINMADMONKEYMENMAD\"\n",
    "searchseq=\"MAD\"\n",
    "seq_len = len(seq)\n",
    "searchseq_len = len(searchseq)"
   ]
  },
  {
   "cell_type": "code",
   "execution_count": 2,
   "metadata": {},
   "outputs": [
    {
     "data": {
      "text/plain": [
       "[0, 3, 11, 14, 20, 23]"
      ]
     },
     "execution_count": 2,
     "metadata": {},
     "output_type": "execute_result"
    }
   ],
   "source": [
    "# pre-processing\n",
    "positions = []\n",
    "for i in range(seq_len):\n",
    "    if seq[i] == searchseq[0]:\n",
    "        positions += [i]\n",
    "positions"
   ]
  },
  {
   "cell_type": "code",
   "execution_count": 3,
   "metadata": {},
   "outputs": [],
   "source": [
    "# algorithm\n",
    "for j in range(searchseq_len):\n",
    "    for i in positions:     \n",
    "        if seq[i+j] != searchseq[j]:\n",
    "            del positions[positions.index(i)]\n",
    "\n",
    "if positions == []:\n",
    "    print(\"Error ! seqence not found\")"
   ]
  },
  {
   "cell_type": "code",
   "execution_count": 4,
   "metadata": {},
   "outputs": [
    {
     "name": "stdout",
     "output_type": "stream",
     "text": [
      "MAD at 11\n",
      "MAD at 23\n"
     ]
    }
   ],
   "source": [
    "# validating the result\n",
    "# loop if multiple results are found\n",
    "for i in positions:\n",
    "    print(seq[i:i+searchseq_len], \"at\", i)"
   ]
  }
 ],
 "metadata": {
  "kernelspec": {
   "display_name": "Python 3",
   "language": "python",
   "name": "python3"
  },
  "language_info": {
   "codemirror_mode": {
    "name": "ipython",
    "version": 3
   },
   "file_extension": ".py",
   "mimetype": "text/x-python",
   "name": "python",
   "nbconvert_exporter": "python",
   "pygments_lexer": "ipython3",
   "version": "3.7.2"
  }
 },
 "nbformat": 4,
 "nbformat_minor": 2
}
