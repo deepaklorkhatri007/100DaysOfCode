{
 "cells": [
  {
   "cell_type": "code",
   "execution_count": 9,
   "metadata": {},
   "outputs": [],
   "source": [
    "# converting Day01 -> Day001 and Day100 -> Day100\n",
    "\n",
    "import os\n",
    "basedir = '.'\n",
    "for fn in os.listdir(basedir):\n",
    "    if not os.path.isdir(os.path.join(basedir, fn)):\n",
    "        continue # not a directory\n",
    "    if 'Day' in fn:\n",
    "        day = \"{:03d}\".format(int(fn.rpartition('Day')[2]))\n",
    "        os.rename(os.path.join(basedir, fn), os.path.join(basedir, 'Day'+day))"
   ]
  }
 ],
 "metadata": {
  "kernelspec": {
   "display_name": "Python 3",
   "language": "python",
   "name": "python3"
  },
  "language_info": {
   "codemirror_mode": {
    "name": "ipython",
    "version": 3
   },
   "file_extension": ".py",
   "mimetype": "text/x-python",
   "name": "python",
   "nbconvert_exporter": "python",
   "pygments_lexer": "ipython3",
   "version": "3.7.4"
  }
 },
 "nbformat": 4,
 "nbformat_minor": 4
}
