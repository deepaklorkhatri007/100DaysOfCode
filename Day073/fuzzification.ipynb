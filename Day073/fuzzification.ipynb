{
 "cells": [
  {
   "cell_type": "code",
   "execution_count": 6,
   "metadata": {},
   "outputs": [],
   "source": [
    "import skfuzzy as fuzz\n",
    "import numpy as np"
   ]
  },
  {
   "cell_type": "code",
   "execution_count": 30,
   "metadata": {},
   "outputs": [
    {
     "name": "stdout",
     "output_type": "stream",
     "text": [
      "0 -> 0.0\n",
      "1 -> 0.2\n",
      "2 -> 0.4\n",
      "3 -> 0.6\n",
      "4 -> 0.8\n",
      "5 -> 1.0\n",
      "6 -> 0.8\n",
      "7 -> 0.6\n",
      "8 -> 0.4\n",
      "9 -> 0.2\n",
      "10 -> 0.0\n"
     ]
    }
   ],
   "source": [
    "# fuzzification\n",
    "# tmf -> triangular membership functions\n",
    "x = np.arange(11)\n",
    "mfx = fuzz.trimf(x, [0, 5, 10])\n",
    "for xval, mfxval in zip(x, mfx):\n",
    "    print('{0} -> {1}'.format(xval, mfxval))"
   ]
  }
 ],
 "metadata": {
  "kernelspec": {
   "display_name": "Python 3",
   "language": "python",
   "name": "python3"
  },
  "language_info": {
   "codemirror_mode": {
    "name": "ipython",
    "version": 3
   },
   "file_extension": ".py",
   "mimetype": "text/x-python",
   "name": "python",
   "nbconvert_exporter": "python",
   "pygments_lexer": "ipython3",
   "version": "3.7.2"
  }
 },
 "nbformat": 4,
 "nbformat_minor": 2
}
