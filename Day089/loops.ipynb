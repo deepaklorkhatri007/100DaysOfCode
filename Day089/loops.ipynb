{
 "cells": [
  {
   "cell_type": "markdown",
   "metadata": {},
   "source": [
    "# Flow Control and Logic 3"
   ]
  },
  {
   "cell_type": "code",
   "execution_count": 1,
   "metadata": {},
   "outputs": [
    {
     "name": "stdout",
     "output_type": "stream",
     "text": [
      "t-minus 3\n",
      "t-minus 2\n",
      "t-minus 1\n",
      "bastoff!\n"
     ]
    }
   ],
   "source": [
    "# while loops are related to if statements\n",
    "t = 3\n",
    "while 0<t:\n",
    "    print(\"t-minus \" + str(t))\n",
    "    t = t-1\n",
    "print(\"bastoff!\")"
   ]
  },
  {
   "cell_type": "code",
   "execution_count": 2,
   "metadata": {},
   "outputs": [
    {
     "name": "stdout",
     "output_type": "stream",
     "text": [
      "I want to know you better :)\n",
      "you are very nice, i am glad we met\n",
      "would you like to go on a date with me\n"
     ]
    }
   ],
   "source": [
    "# if expression is false after while it will not execute\n",
    "while False:\n",
    "    print(\"I am in love with you\")\n",
    "print(\"I want to know you better :)\")\n",
    "\n",
    "# if expression is true after while it will ececute\n",
    "a = 1\n",
    "while a == 1:\n",
    "    print(\"you are very nice, i am glad we met\")\n",
    "    a-=1\n",
    "print(\"would you like to go on a date with me\")"
   ]
  }
 ],
 "metadata": {
  "kernelspec": {
   "display_name": "Python 3",
   "language": "python",
   "name": "python3"
  },
  "language_info": {
   "codemirror_mode": {
    "name": "ipython",
    "version": 3
   },
   "file_extension": ".py",
   "mimetype": "text/x-python",
   "name": "python",
   "nbconvert_exporter": "python",
   "pygments_lexer": "ipython3",
   "version": "3.7.3"
  }
 },
 "nbformat": 4,
 "nbformat_minor": 2
}
