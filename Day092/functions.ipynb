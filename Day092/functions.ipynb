{
 "cells": [
  {
   "cell_type": "markdown",
   "metadata": {},
   "source": [
    "# Operating with functions "
   ]
  },
  {
   "cell_type": "code",
   "execution_count": 1,
   "metadata": {},
   "outputs": [
    {
     "name": "stdout",
     "output_type": "stream",
     "text": [
      "Hello, Deepak have a very good day\n",
      "Hello, Viewer have a very happy coding\n"
     ]
    }
   ],
   "source": [
    "# Don't Repear Yourself - Dry principle\n",
    "def greet(name, greeting):\n",
    "    print(\"Hello,\", name, \"have a very\", greeting)\n",
    "\n",
    "greet(\"Deepak\", \"good day\")\n",
    "greet(\"Viewer\", \"happy coding\")"
   ]
  },
  {
   "cell_type": "code",
   "execution_count": 2,
   "metadata": {},
   "outputs": [
    {
     "data": {
      "text/plain": [
       "0.8414709848078965"
      ]
     },
     "execution_count": 2,
     "metadata": {},
     "output_type": "execute_result"
    }
   ],
   "source": [
    "# math functions\n",
    "from math import sin\n",
    "\n",
    "def sin_inv(x):\n",
    "    if x == 0.0:\n",
    "        result = 0.0\n",
    "    else:\n",
    "        result = sin(1.0/x)\n",
    "    return result\n",
    "sin_inv(1)"
   ]
  },
  {
   "cell_type": "code",
   "execution_count": 3,
   "metadata": {},
   "outputs": [
    {
     "data": {
      "text/plain": [
       "\u001b[0;31mSignature:\u001b[0m \u001b[0mpower\u001b[0m\u001b[0;34m(\u001b[0m\u001b[0mbase\u001b[0m\u001b[0;34m,\u001b[0m \u001b[0mx\u001b[0m\u001b[0;34m)\u001b[0m\u001b[0;34m\u001b[0m\u001b[0;34m\u001b[0m\u001b[0m\n",
       "\u001b[0;31mDocstring:\u001b[0m\n",
       "Computes base^x. Both base and x should be inegers,\n",
       "floats, or another numeric type.\n",
       "\u001b[0;31mFile:\u001b[0m      ~/Github/100DaysOfCode/Day92/<ipython-input-3-100e0dfdb83c>\n",
       "\u001b[0;31mType:\u001b[0m      function\n"
      ]
     },
     "metadata": {},
     "output_type": "display_data"
    }
   ],
   "source": [
    "# function help\n",
    "def power(base, x):\n",
    "    \"\"\"\n",
    "    Computes base^x. Both base and x should be inegers,\n",
    "    floats, or another numeric type.\n",
    "    \"\"\"\n",
    "    return base**x\n",
    "?power"
   ]
  }
 ],
 "metadata": {
  "kernelspec": {
   "display_name": "Python 3",
   "language": "python",
   "name": "python3"
  },
  "language_info": {
   "codemirror_mode": {
    "name": "ipython",
    "version": 3
   },
   "file_extension": ".py",
   "mimetype": "text/x-python",
   "name": "python",
   "nbconvert_exporter": "python",
   "pygments_lexer": "ipython3",
   "version": "3.7.3"
  }
 },
 "nbformat": 4,
 "nbformat_minor": 2
}
