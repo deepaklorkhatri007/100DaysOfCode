{
 "cells": [
  {
   "cell_type": "markdown",
   "metadata": {},
   "source": [
    "<h2 style=\"text-align:center\">Basic String/Sequence Search</h2>\n",
    "<h3 style=\"text-align:center\">Author : Deepak Khatri</h3>\n",
    "<strong>1. Frame Shift Method</strong>\n",
    "<pre>This method of sequence search is very inefficient as we will be running the loop for \n",
    "(lenght(sequence)-length(search seqence))*length(search sequence)</pre>\n",
    "<pre>\n",
    "<strong>Algorithm</strong>\n",
    "<code>\n",
    "Step 1: create variables for seqence and search string for example, \n",
    "seq = \"mopmountainmadmonkeymen\" & searchseq = \"mad\"\n",
    "\n",
    "Step 2: search for the 'search string' in 'sequence' by shifting the frame in each iteration for example,\n",
    "\n",
    "            mopmountainmadmonkeymen\n",
    "    0       mad        ^^^  \n",
    "    1        mad       ^^^  \n",
    "    2         mad      ^^^  \n",
    "    .                  ^^^  \n",
    "    .                  ^^^  \n",
    "    .                  ^^^  \n",
    "    11                 mad\n",
    "    \n",
    "If the string we are searching for is avaiable in our sequence then we will get the position of it else we will get nothing or an error if we implement that functionality in our code.\n",
    "</code>\n",
    "</pre>"
   ]
  },
  {
   "cell_type": "code",
   "execution_count": 1,
   "metadata": {},
   "outputs": [],
   "source": [
    "# load modules\n",
    "from matplotlib import pyplot as plt"
   ]
  },
  {
   "cell_type": "code",
   "execution_count": 2,
   "metadata": {},
   "outputs": [],
   "source": [
    "# data\n",
    "seq = \"mopmountainmadmonkeymen\"\n",
    "searchseq = \"mad\""
   ]
  },
  {
   "cell_type": "code",
   "execution_count": 3,
   "metadata": {},
   "outputs": [],
   "source": [
    "# calculating length of sequence and search string\n",
    "seq_len = len(seq)\n",
    "searchseq_len = len(searchseq)"
   ]
  },
  {
   "cell_type": "code",
   "execution_count": 4,
   "metadata": {},
   "outputs": [
    {
     "data": {
      "text/plain": [
       "[[1, 0, 0],\n",
       " [0, 0, 0],\n",
       " [0, 0, 0],\n",
       " [1, 0, 0],\n",
       " [0, 0, 0],\n",
       " [0, 0, 0],\n",
       " [0, 0, 0],\n",
       " [0, 1, 0],\n",
       " [0, 0, 0],\n",
       " [0, 0, 0],\n",
       " [0, 0, 0],\n",
       " [1, 1, 1],\n",
       " [0, 0, 0],\n",
       " [0, 0, 0],\n",
       " [1, 0, 0],\n",
       " [0, 0, 0],\n",
       " [0, 0, 0],\n",
       " [0, 0, 0],\n",
       " [0, 0, 0],\n",
       " [0, 0, 0]]"
      ]
     },
     "execution_count": 4,
     "metadata": {},
     "output_type": "execute_result"
    }
   ],
   "source": [
    "# frame shift searching\n",
    "data = [[int(seq[i+j:i+j + 1] == searchseq[j:j + 1]) for j in range(searchseq_len)] for i in range(seq_len-searchseq_len)]\n",
    "data"
   ]
  },
  {
   "cell_type": "code",
   "execution_count": 5,
   "metadata": {},
   "outputs": [
    {
     "data": {
      "image/png": "[encoded data removed]",
      "text/plain": [
       "<Figure size 640x640 with 1 Axes>"
      ]
     },
     "metadata": {},
     "output_type": "display_data"
    }
   ],
   "source": [
    "# plotting just to visualize\n",
    "plt.figure(figsize=(8, 8), dpi=80)\n",
    "plt.imshow(data)\n",
    "plt.xticks([xt for xt in range(searchseq_len)], searchseq)\n",
    "plt.yticks([yt for yt in range(seq_len-searchseq_len)], [seq[i:i+searchseq_len] for i in range(seq_len-searchseq_len)])\n",
    "plt.show()"
   ]
  }
 ],
 "metadata": {
  "kernelspec": {
   "display_name": "Python 3",
   "language": "python",
   "name": "python3"
  },
  "language_info": {
   "codemirror_mode": {
    "name": "ipython",
    "version": 3
   },
   "file_extension": ".py",
   "mimetype": "text/x-python",
   "name": "python",
   "nbconvert_exporter": "python",
   "pygments_lexer": "ipython3",
   "version": "3.7.2"
  }
 },
 "nbformat": 4,
 "nbformat_minor": 2
}
