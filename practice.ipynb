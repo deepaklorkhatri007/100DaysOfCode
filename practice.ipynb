{
 "cells": [
  {
   "cell_type": "code",
   "execution_count": 96,
   "metadata": {},
   "outputs": [
    {
     "name": "stdout",
     "output_type": "stream",
     "text": [
      "6054854654\n"
     ]
    }
   ],
   "source": [
    "def comparator(a, b): \n",
    "    ab = str(a) + str(b) \n",
    "    ba = str(b) + str(a) \n",
    "    return ((int(ba) > int(ab)) - (int(ba) < int(ab))) \n",
    "def myCompare(mycmp): \n",
    "      \n",
    "    # Convert a cmp= function into a key= function \n",
    "    class K(object): \n",
    "        def __init__(self, obj, *args): \n",
    "            self.obj = obj \n",
    "        def __lt__(self, other): \n",
    "            return mycmp(self.obj, other.obj) < 0\n",
    "        def __gt__(self, other): \n",
    "            return mycmp(self.obj, other.obj) > 0\n",
    "        def __eq__(self, other): \n",
    "            return mycmp(self.obj, other.obj) == 0\n",
    "        def __le__(self, other): \n",
    "            return mycmp(self.obj, other.obj) <= 0\n",
    "        def __ge__(self, other): \n",
    "            return mycmp(self.obj, other.obj) >= 0\n",
    "        def __ne__(self, other): \n",
    "            return mycmp(self.obj, other.obj) != 0\n",
    "    return K \n",
    "\n",
    "a = [54, 546, 548, 60, ] \n",
    "sorted_array = sorted(a, key=myCompare(comparator)) \n",
    "number = \"\".join([str(i) for i in sorted_array]) \n",
    "print(number) "
   ]
  },
  {
   "cell_type": "code",
   "execution_count": 93,
   "metadata": {},
   "outputs": [
    {
     "data": {
      "text/plain": [
       "3"
      ]
     },
     "execution_count": 93,
     "metadata": {},
     "output_type": "execute_result"
    }
   ],
   "source": [
    "# number of substrings in a string containing equal no of a, b, c\n",
    "# 4th sep 2019\n",
    "def eqalcount(n):\n",
    "    dict = {(0,0,0):1}\n",
    "    for i in range(len(n)):\n",
    "        a = n[0:i].count('a')\n",
    "        b = n[0:i].count('b')\n",
    "        c = n[0:i].count('c')\n",
    "        d = min(a, b, c)\n",
    "        a,b,c = a-d,b-d,c-d\n",
    "        if (a,b,c) in dict:\n",
    "            dict[(a,b,c)]+=1\n",
    "        else:\n",
    "            dict[(a,b,c)] = 1\n",
    "    sum = 0\n",
    "    for i in dict:\n",
    "        sum+=(dict[i]-1)*int((dict[i]/2))\n",
    "    return sum\n",
    "eqalcount(\"cbabca\")"
   ]
  },
  {
   "cell_type": "code",
   "execution_count": 74,
   "metadata": {},
   "outputs": [
    {
     "name": "stdout",
     "output_type": "stream",
     "text": [
      "[[6, 12], [4, 12], [3, 12]]\n"
     ]
    }
   ],
   "source": [
    "# 3rd sep 2019\n",
    "def prime(n):\n",
    "    primes = [True for i in range(n)]\n",
    "    i = 2\n",
    "    while i*i<=n:\n",
    "        if primes[i] == True:\n",
    "            for j in range(i*2, n, i):\n",
    "                primes[j] = False\n",
    "        i+=1\n",
    "    primes[0] = False\n",
    "    primes[1] = False\n",
    "    return [i for i,j in enumerate(primes) if j == True]\n",
    "\n",
    "a = [[1,2],[1,3], [1,4]]\n",
    "deno = 1\n",
    "for i,j in enumerate(a):\n",
    "    p = reversed(prime(a[i][1]+1))\n",
    "#     print(prime(a[i][1]))\n",
    "    for pr in p:\n",
    "        if a[i][1]%pr == 0:\n",
    "            deno*= pr\n",
    "            break\n",
    "# print(a,deno)\n",
    "for i,j in enumerate(a):\n",
    "    a[i][0] = int(a[i][0]*(deno/a[i][1]))\n",
    "    a[i][1] = int(deno)\n",
    "print(a)\n",
    "# prime(5)"
   ]
  },
  {
   "cell_type": "code",
   "execution_count": 5,
   "metadata": {},
   "outputs": [
    {
     "data": {
      "text/plain": [
       "1"
      ]
     },
     "execution_count": 5,
     "metadata": {},
     "output_type": "execute_result"
    }
   ],
   "source": [
    "# 3rd september\n",
    "def gcd(a, b):\n",
    "    if b:\n",
    "        return gcd(b, a%b)\n",
    "    else:\n",
    "        return a\n"
   ]
  },
  {
   "cell_type": "code",
   "execution_count": 18,
   "metadata": {},
   "outputs": [
    {
     "name": "stdout",
     "output_type": "stream",
     "text": [
      "geeksskeeg\n"
     ]
    },
    {
     "data": {
      "text/plain": [
       "10"
      ]
     },
     "execution_count": 18,
     "metadata": {},
     "output_type": "execute_result"
    }
   ],
   "source": [
    "# 3rd sep 2019\n",
    "def lp(st):\n",
    "    n= len(st)\n",
    "    table = [[0 for i in range(n)] for j in range(n)]\n",
    "    \n",
    "    maxLength = 1\n",
    "    for i in range(n):\n",
    "        table[i][i] = True\n",
    "        \n",
    "    start = 0\n",
    "    for i in range(n-1):\n",
    "        if st[i] == st[i+1]:\n",
    "            table[i][i+1] = True\n",
    "            maxLength = 2\n",
    "            start = i\n",
    "            \n",
    "    k = 3\n",
    "    while k<=n:\n",
    "        for i in range(n-k+1):\n",
    "            j = i+k-1\n",
    "            if st[i]==st[j] and table[i+1][j-1]:\n",
    "                table[i][j] = True\n",
    "                maxLength = k\n",
    "                start = i\n",
    "        k+=1\n",
    "    print(st[start:start+maxLength])\n",
    "    return maxLength\n",
    "\n",
    "lp(\"forgeeksskeegfor\")"
   ]
  }
 ],
 "metadata": {
  "kernelspec": {
   "display_name": "Python 3",
   "language": "python",
   "name": "python3"
  },
  "language_info": {
   "codemirror_mode": {
    "name": "ipython",
    "version": 3
   },
   "file_extension": ".py",
   "mimetype": "text/x-python",
   "name": "python",
   "nbconvert_exporter": "python",
   "pygments_lexer": "ipython3",
   "version": "3.7.4"
  }
 },
 "nbformat": 4,
 "nbformat_minor": 4
}
