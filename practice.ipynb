{
 "cells": [
  {
   "cell_type": "code",
   "execution_count": 18,
   "metadata": {},
   "outputs": [
    {
     "name": "stdout",
     "output_type": "stream",
     "text": [
      "geeksskeeg\n"
     ]
    },
    {
     "data": {
      "text/plain": [
       "10"
      ]
     },
     "execution_count": 18,
     "metadata": {},
     "output_type": "execute_result"
    }
   ],
   "source": [
    "# 3rd sep 2019\n",
    "def lp(st):\n",
    "    n= len(st)\n",
    "    table = [[0 for i in range(n)] for j in range(n)]\n",
    "    \n",
    "    maxLength = 1\n",
    "    for i in range(n):\n",
    "        table[i][i] = True\n",
    "        \n",
    "    start = 0\n",
    "    for i in range(n-1):\n",
    "        if st[i] == st[i+1]:\n",
    "            table[i][i+1] = True\n",
    "            maxLength = 2\n",
    "            start = i\n",
    "            \n",
    "    k = 3\n",
    "    while k<=n:\n",
    "        for i in range(n-k+1):\n",
    "            j = i+k-1\n",
    "            if st[i]==st[j] and table[i+1][j-1]:\n",
    "                table[i][j] = True\n",
    "                maxLength = k\n",
    "                start = i\n",
    "        k+=1\n",
    "    print(st[start:start+maxLength])\n",
    "    return maxLength\n",
    "\n",
    "lp(\"forgeeksskeegfor\")"
   ]
  }
 ],
 "metadata": {
  "kernelspec": {
   "display_name": "Python 3",
   "language": "python",
   "name": "python3"
  },
  "language_info": {
   "codemirror_mode": {
    "name": "ipython",
    "version": 3
   },
   "file_extension": ".py",
   "mimetype": "text/x-python",
   "name": "python",
   "nbconvert_exporter": "python",
   "pygments_lexer": "ipython3",
   "version": "3.7.4"
  }
 },
 "nbformat": 4,
 "nbformat_minor": 4
}
