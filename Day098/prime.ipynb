{
 "cells": [
  {
   "cell_type": "markdown",
   "metadata": {},
   "source": [
    "# sieve of eratosthenes"
   ]
  },
  {
   "cell_type": "code",
   "execution_count": 18,
   "metadata": {},
   "outputs": [],
   "source": [
    "import time"
   ]
  },
  {
   "cell_type": "code",
   "execution_count": 36,
   "metadata": {},
   "outputs": [
    {
     "name": "stdout",
     "output_type": "stream",
     "text": [
      "Time taken 11.723650693893433\n"
     ]
    }
   ],
   "source": [
    "t0 = time.time()\n",
    "def isprime(n):\n",
    "    i = 2\n",
    "    if n<2:\n",
    "        return False\n",
    "    while i*i <= n:\n",
    "        if n%i == 0:\n",
    "            return False\n",
    "        i+=1\n",
    "    return True\n",
    "\n",
    "for i in range(1000000):\n",
    "    isprime(i)\n",
    "#     if(isprime(i)):\n",
    "#         print(i)\n",
    "print(\"Time taken\", time.time()-t0)"
   ]
  },
  {
   "cell_type": "code",
   "execution_count": 40,
   "metadata": {},
   "outputs": [
    {
     "name": "stdout",
     "output_type": "stream",
     "text": [
      "Time taken:  0.28397226333618164\n"
     ]
    }
   ],
   "source": [
    "t0 = time.time()\n",
    "def primes(n):\n",
    "    prime = [True for i in range(n)]\n",
    "    i = 2\n",
    "    while i*i<n:\n",
    "        if prime[i] == True:\n",
    "            for j in range(i*2, n, i):\n",
    "                prime[j] = False\n",
    "        i+=1\n",
    "    prime[0] = False\n",
    "    prime[1] = False\n",
    "    \n",
    "    return prime\n",
    "p = primes(1000000)\n",
    "# for i in range(len(p)):\n",
    "#     if p[i] == True:\n",
    "#         print(i)\n",
    "print(\"Time taken: \", time.time()-t0)"
   ]
  }
 ],
 "metadata": {
  "kernelspec": {
   "display_name": "Python 3",
   "language": "python",
   "name": "python3"
  },
  "language_info": {
   "codemirror_mode": {
    "name": "ipython",
    "version": 3
   },
   "file_extension": ".py",
   "mimetype": "text/x-python",
   "name": "python",
   "nbconvert_exporter": "python",
   "pygments_lexer": "ipython3",
   "version": "3.7.4"
  }
 },
 "nbformat": 4,
 "nbformat_minor": 4
}
