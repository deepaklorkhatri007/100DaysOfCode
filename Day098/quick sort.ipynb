{
 "cells": [
  {
   "cell_type": "markdown",
   "metadata": {},
   "source": [
    "# Quick sort\n",
    "there are many different version of quick sort that pick pivot in different ways.\n",
    "1. Always pick first element as pivot\n",
    "2. Always pick last element as pivot(implemented below)\n",
    "3. Pick a random element as pivot\n",
    "4. Pick median as pivot"
   ]
  },
  {
   "cell_type": "code",
   "execution_count": 1,
   "metadata": {},
   "outputs": [
    {
     "data": {
      "text/plain": [
       "[8, 19, 42, 44, 48, 59, 65, 68, 72, 80, 82, 95]"
      ]
     },
     "execution_count": 1,
     "metadata": {},
     "output_type": "execute_result"
    }
   ],
   "source": [
    "Array = [48,44,19,59,72,80,42,65,82,8,95,68]\n",
    "low = 0\n",
    "up = len(Array) - 1\n",
    "\n",
    "# when fist element is the pivot\n",
    "def partition(Array, low, up):\n",
    "    i = low+1\n",
    "    j = up\n",
    "    pivot = Array[low]\n",
    "    while (i<=j):\n",
    "        while (Array[i]<pivot and i<up):\n",
    "            i= i+1\n",
    "        while (Array[j]>pivot):\n",
    "            j = j-1\n",
    "        if (i<j):\n",
    "            Array[i], Array[j] = Array[j], Array[i]\n",
    "            i= i+1\n",
    "            j = j-1\n",
    "        else:\n",
    "            i = i+1\n",
    "    Array[low] = Array[j]\n",
    "    Array[j] = pivot\n",
    "    return j\n",
    "\n",
    "def quick(Array, low, up):\n",
    "    if low>=up:\n",
    "        return\n",
    "    else:\n",
    "        pivot_loc = partition(Array, low, up)\n",
    "        quick(Array, low, pivot_loc-1)\n",
    "        quick(Array, pivot_loc+1, up)\n",
    "\n",
    "        \n",
    "quick(Array, low, up)\n",
    "Array"
   ]
  },
  {
   "cell_type": "code",
   "execution_count": 2,
   "metadata": {},
   "outputs": [
    {
     "data": {
      "text/plain": [
       "[8, 19, 42, 44, 48, 59, 65, 68, 72, 80, 82, 95]"
      ]
     },
     "execution_count": 2,
     "metadata": {},
     "output_type": "execute_result"
    }
   ],
   "source": [
    "# last element as pivot\n",
    "Array = [48,44,19,59,72,80,42,65,82,8,95,68]\n",
    "low = 0\n",
    "up = len(Array) - 1\n",
    "def partition(Array, low, up):\n",
    "    i = low-1\n",
    "    pivot = Array[up]\n",
    "    \n",
    "    for j in range(low, up):\n",
    "        if Array[j] <= pivot:\n",
    "            i = i+1\n",
    "            Array[i], Array[j] = Array[j], Array[i]\n",
    "    Array[i+1], Array[up] = Array[up], Array[i+1]\n",
    "    return (i+1)\n",
    "\n",
    "def quick(Array, low, up):\n",
    "    if low<up:\n",
    "        piv = partition(Array, low, up)\n",
    "        quick(Array, low, piv-1)\n",
    "        quick(Array, piv+1, up)\n",
    "        \n",
    "quick(Array, low, up)\n",
    "Array"
   ]
  }
 ],
 "metadata": {
  "kernelspec": {
   "display_name": "Python 3",
   "language": "python",
   "name": "python3"
  },
  "language_info": {
   "codemirror_mode": {
    "name": "ipython",
    "version": 3
   },
   "file_extension": ".py",
   "mimetype": "text/x-python",
   "name": "python",
   "nbconvert_exporter": "python",
   "pygments_lexer": "ipython3",
   "version": "3.7.4"
  }
 },
 "nbformat": 4,
 "nbformat_minor": 4
}
