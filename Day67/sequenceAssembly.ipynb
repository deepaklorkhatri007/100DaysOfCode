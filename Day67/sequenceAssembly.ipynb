{
 "cells": [
  {
   "cell_type": "markdown",
   "metadata": {},
   "source": [
    "<h2 style='text-align:center'>Sequence/Genome Assembly</h2>\n",
    "<h3 style='text-align:center'>Author : Deepak Khatri</h3>\n",
    "<pre>\n",
    "<code>\n",
    "Step 1: Take input from the contig file in format of\n",
    "                1 CGGTAGGACAGGCCGGGCCGCAGCTGATGAAAGCGGTGTATGAGATGGCC\n",
    "                2 CGGAAGTATGTGGGTGCTGCCGGAAGTCCGGCGCAGATGCGGCGGGCCGA\n",
    "                3 GCCGATTAATTTTAATCAGAACAATCACGTGGTGATTCAGAACGACGGTA\n",
    "                4 CGAAATTTTGCGACCGGAGGATTTACGGGAACCGGCGGCAAATATGAGCC\n",
    "                .\n",
    "                .\n",
    "                .\n",
    "        i.e. 'index' 'sequence' (if some other format is used to store the file change this step appropriately)\n",
    "\n",
    "Step 2: find the overlaping sequence map.\n",
    "\n",
    "Step 3: Find the index of first contig.\n",
    "\n",
    "Step 4: Find order of contigs relative to first.\n",
    "\n",
    "Step 5: Assemble sequence/genome in order.\n",
    "                \n",
    "</code>\n",
    "</pre>"
   ]
  },
  {
   "cell_type": "code",
   "execution_count": 1,
   "metadata": {},
   "outputs": [
    {
     "data": {
      "text/plain": [
       "{'1': 'CGGTAGGACAGGCCGGGCCGCAGCTGATGAAAGCGGTGTATGAGATGGCC',\n",
       " '2': 'CGGAAGTATGTGGGTGCTGCCGGAAGTCCGGCGCAGATGCGGCGGGCCGA',\n",
       " '3': 'GCCGATTAATTTTAATCAGAACAATCACGTGGTGATTCAGAACGACGGTA',\n",
       " '4': 'CGAAATTTTGCGACCGGAGGATTTACGGGAACCGGCGGCAAATATGAGCC',\n",
       " '5': 'AACCAATTGGTGTCGGGAACCTGTACCGCCTGATGCGGGGCTATGCGGAA',\n",
       " '6': 'GGTGGGGATTGTCGGGAGTATCGGCAGCGCTATTGGCGGGGCTGTTGGTG',\n",
       " '7': 'TGGTGGCATCCGCGTCAGGCGGTACAGCCATTCAGGCAGCTGCGGCGAAA',\n",
       " '8': 'CTCCGTGCTGTCCATGATGACAGAAATTCTGCTGAAGCAGGCAATGGTGG',\n",
       " '9': 'TGGCCAGGTGCGCAGGATGAGCTCCGGCTGCAGTTGCGTGATGGCGGTCT',\n",
       " '10': 'GAGCCGGATTGTCCACCGCGGGGAGTTTGTCTTCACGAAGGAGGCAACCA'}"
      ]
     },
     "execution_count": 1,
     "metadata": {},
     "output_type": "execute_result"
    }
   ],
   "source": [
    "# opening the file with raw data\n",
    "fileName = \"data.txt\"\n",
    "with open(fileName) as f:\n",
    "        data = dict(l.split() for l in f)\n",
    "data"
   ]
  },
  {
   "cell_type": "code",
   "execution_count": 2,
   "metadata": {},
   "outputs": [
    {
     "data": {
      "text/plain": [
       "{'1': {'2': 1, '3': 3, '4': 1, '8': 1, '9': 5},\n",
       " '2': {'3': 5, '4': 3, '5': 1, '10': 2},\n",
       " '3': {'1': 5, '5': 1},\n",
       " '4': {'1': 1, '2': 1, '3': 3, '8': 1, '10': 5},\n",
       " '5': {'2': 5},\n",
       " '6': {'3': 1, '7': 2, '9': 2, '10': 1},\n",
       " '7': {'4': 5, '5': 1},\n",
       " '8': {'3': 1, '6': 1, '7': 3, '9': 3, '10': 1},\n",
       " '9': {'7': 1, '8': 2},\n",
       " '10': {'5': 1}}"
      ]
     },
     "execution_count": 2,
     "metadata": {},
     "output_type": "execute_result"
    }
   ],
   "source": [
    "# overlaping sequence map\n",
    "d = dict()\n",
    "for name1, seq1 in data.items():\n",
    "    for name2, seq2 in data.items():\n",
    "        if name1 != name2:\n",
    "            if name1 not in d:\n",
    "                d[name1] = dict()\n",
    "            for i in range(len(seq1)):\n",
    "                if seq1[i:] == seq2[:len(seq1)-i]:\n",
    "                    d[name1][name2] = len(seq1[i:])\n",
    "d"
   ]
  },
  {
   "cell_type": "code",
   "execution_count": 3,
   "metadata": {},
   "outputs": [
    {
     "data": {
      "text/plain": [
       "'5'"
      ]
     },
     "execution_count": 3,
     "metadata": {},
     "output_type": "execute_result"
    }
   ],
   "source": [
    "# finding the first contig of the sequence\n",
    "for i in d.keys():\n",
    "    flag = False\n",
    "    for j in d[i].keys():\n",
    "        if int(j) > 3:\n",
    "            flag = True\n",
    "    if not flag:\n",
    "        first = i\n",
    "        break\n",
    "first"
   ]
  },
  {
   "cell_type": "code",
   "execution_count": 4,
   "metadata": {},
   "outputs": [],
   "source": [
    "# finding the order of contigs\n",
    "def findOrder(first, d):\n",
    "    if max(d[first].values()) < 3:\n",
    "        return [first]\n",
    "    else:\n",
    "        m = max(d[first].values())\n",
    "        for k in d[first]:\n",
    "            if d[first][k] == m:\n",
    "                nextRead = k\n",
    "        return [first] + findOrder(nextRead, d)\n",
    "order = findOrder(first, d)"
   ]
  },
  {
   "cell_type": "code",
   "execution_count": 5,
   "metadata": {},
   "outputs": [
    {
     "data": {
      "text/plain": [
       "'AACCAATTGGTGTCGGGAACCTGTACCGCCTGATGCGGGGCTATGCGGAAGTATGTGGGTGCTGCCGGAAGTCCGGCGCAGATGCGGCGGGCCGATTAATTTTAATCAGAACAATCACGTGGTGATTCAGAACGACGGTAGGACAGGCCGGGCCGCAGCTGATGAAAGCGGTGTATGAGATGGCCAGGTGCGCAGGATGAGCTCCGGCTGCAGTTGCGTGATGGCGGTCT'"
      ]
     },
     "execution_count": 5,
     "metadata": {},
     "output_type": "execute_result"
    }
   ],
   "source": [
    "# Sequence/Genome Assembly\n",
    "sequence = ''\n",
    "for readName in order[:-1]:\n",
    "    rightOverlap = max(x for x in d[readName].values() if x >= 3)\n",
    "    sequence += data[readName][:-rightOverlap]\n",
    "sequence += data[order[-1]]\n",
    "\n",
    "sequence"
   ]
  }
 ],
 "metadata": {
  "kernelspec": {
   "display_name": "Python 3",
   "language": "python",
   "name": "python3"
  },
  "language_info": {
   "codemirror_mode": {
    "name": "ipython",
    "version": 3
   },
   "file_extension": ".py",
   "mimetype": "text/x-python",
   "name": "python",
   "nbconvert_exporter": "python",
   "pygments_lexer": "ipython3",
   "version": "3.7.2"
  }
 },
 "nbformat": 4,
 "nbformat_minor": 2
}
