{
 "cells": [
  {
   "cell_type": "markdown",
   "metadata": {},
   "source": [
    "# Essential Containers 4"
   ]
  },
  {
   "cell_type": "code",
   "execution_count": 1,
   "metadata": {},
   "outputs": [
    {
     "data": {
      "text/plain": [
       "{'first': 'Albert', 'last': 'Einstein', 'birthday': [1879, 3, 14]}"
      ]
     },
     "execution_count": 1,
     "metadata": {},
     "output_type": "execute_result"
    }
   ],
   "source": [
    "# Dictionaries are the most important data structure in python.\n",
    "al = {\n",
    "    \"first\": \"Albert\", \n",
    "    \"last\": \"Einstein\", \n",
    "    \"birthday\":[1879, 3, 14]\n",
    "}\n",
    "al"
   ]
  },
  {
   "cell_type": "code",
   "execution_count": 2,
   "metadata": {},
   "outputs": [],
   "source": [
    "constants = {\n",
    "    \"pi\": 3.1415,\n",
    "    \"e\": 2.718,\n",
    "    \"h\": 6.62606957e-34,\n",
    "    True: 1.0,\n",
    "}"
   ]
  },
  {
   "cell_type": "code",
   "execution_count": 3,
   "metadata": {},
   "outputs": [
    {
     "data": {
      "text/plain": [
       "{'pi': 3.14159, 'e': 2.718, 'h': 6.62606957e-34, True: 1.0}"
      ]
     },
     "execution_count": 3,
     "metadata": {},
     "output_type": "execute_result"
    }
   ],
   "source": [
    "# Dictionaries are mutable and unordered collection of unique key/value pairs\n",
    "constants[\"pi\"] = 3.14159\n",
    "constants"
   ]
  },
  {
   "cell_type": "code",
   "execution_count": 4,
   "metadata": {},
   "outputs": [
    {
     "data": {
      "text/plain": [
       "{1: 'x', 2: 'y', 3: 'z'}"
      ]
     },
     "execution_count": 4,
     "metadata": {},
     "output_type": "execute_result"
    }
   ],
   "source": [
    "# list of two tuples is a dictionary\n",
    "axes = dict([(1, 'x'), (2, 'y'), (3, 'z')])\n",
    "axes"
   ]
  },
  {
   "cell_type": "code",
   "execution_count": 5,
   "metadata": {},
   "outputs": [
    {
     "data": {
      "text/plain": [
       "{'pi': 3.14159, 'e': 2.718, 'h': 6.62606957e-34, True: 1.0, False: 0.0}"
      ]
     },
     "execution_count": 5,
     "metadata": {},
     "output_type": "execute_result"
    }
   ],
   "source": [
    "# we can change as well as add vales using indexing the key\n",
    "constants[False] = 0.0\n",
    "constants"
   ]
  },
  {
   "cell_type": "markdown",
   "metadata": {},
   "source": [
    "1. { } is empty dictionary\n",
    "2. set( ) is empty set"
   ]
  },
  {
   "cell_type": "code",
   "execution_count": 6,
   "metadata": {},
   "outputs": [
    {
     "name": "stdout",
     "output_type": "stream",
     "text": [
      "False\n",
      "True\n"
     ]
    }
   ],
   "source": [
    "# test for containment\n",
    "print(\"N_A\" in constants)\n",
    "print(False in constants)"
   ]
  },
  {
   "cell_type": "code",
   "execution_count": 7,
   "metadata": {},
   "outputs": [],
   "source": [
    "# deleting from a dictionry\n",
    "del axes[3]"
   ]
  },
  {
   "cell_type": "code",
   "execution_count": 8,
   "metadata": {},
   "outputs": [
    {
     "data": {
      "text/plain": [
       "{1: 'r', 2: 'phi', 3: 'theta'}"
      ]
     },
     "execution_count": 8,
     "metadata": {},
     "output_type": "execute_result"
    }
   ],
   "source": [
    "# updating axes\n",
    "axes.update({1: 'r', 2: 'phi', 3: 'theta'})\n",
    "axes"
   ]
  },
  {
   "cell_type": "markdown",
   "metadata": {},
   "source": [
    "## Things I learnt from chapter 3\n",
    "1. Mulability is a property that allows insertion of new values and immutablity does not allow insertion of new values.\n",
    "2. Duck typing defines as if something walks like a duck and quacks like a duck it is probably a duck and used alot in interfaces in python where we have input/output of some kind just like interface in real life.\n",
    "3. Lists are mutable containers which are used for homogeneous data storage. Tuples are immutable and they are used for hashing.\n",
    "4. Hash function allows us to set integer values for different variables with some data in it which can be any time. two variables with same value and same type will have a some Hash.\n",
    "5. Sets are containers that are similar to the sets in mathematics. Dictionaries are containes that are used to create early sets and they are mutable containers that stores key:value pairs."
   ]
  }
 ],
 "metadata": {
  "kernelspec": {
   "display_name": "Python 3",
   "language": "python",
   "name": "python3"
  },
  "language_info": {
   "codemirror_mode": {
    "name": "ipython",
    "version": 3
   },
   "file_extension": ".py",
   "mimetype": "text/x-python",
   "name": "python",
   "nbconvert_exporter": "python",
   "pygments_lexer": "ipython3",
   "version": "3.7.3"
  }
 },
 "nbformat": 4,
 "nbformat_minor": 2
}
