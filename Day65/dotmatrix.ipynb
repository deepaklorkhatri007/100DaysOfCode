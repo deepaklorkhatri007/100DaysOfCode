{
 "cells": [
  {
   "cell_type": "markdown",
   "metadata": {},
   "source": [
    "<h2 style=\"text-align: center;text-transform: uppercase;\">The Dot Matrix or Diagram method for comparing seqences </h2>\n",
    "<h3 style=\"text-align: center\">Author : Deepak Khatri</h3>\n",
    "\n",
    "<h3>History</h3>\n",
    "<p>This method is described by A.J. Gibbs and G.A. McIntyre in 1970 for comparing two amino acid and nucleotide sequences in which a graph was drawn with one sequence writ- ten across the page and the other down the left-hand side. Whenever the same letter appeared in both sequences, a dot was placed at the intersection of the corresponding sequence positions on the graph  The resulting graph was then scanned for a series of dots that formed a diagonal, which revealed similarity, or a string of the same characters, between the sequences. Long sequences can also be compared in this manner on a single page by using smaller dots.\n",
    "</p>\n",
    "<img src=\"https://upload.wikimedia.org/wikipedia/commons/3/33/Zinc-finger-dot-plot.png\" alt=\"Flowers in Chania\">\n",
    "<p style=\"text-align:center\">Fig 1. <a href=\"https://en.wikipedia.org/wiki/Dot_plot_(bioinformatics)\">A DNA dot plot</a> of a human zinc finger transcription factor (GenBank ID NM_002383), showing regional self-similarity. The main diagonal represents the sequence's alignment with itself; lines off the main diagonal represent similar or repetitive patterns within the sequence. This is a typical example of a recurrence plot.</p>\n",
    "\n",
    "<h3>Why this method?</h3>\n",
    "<p>The dot matrix method quite readily reveals the presence of insertions or deletions between sequences because they shift the diagonal horizontally or vertically by the amount of change. Comparing a single sequence to itself can reveal the presence of a repeat of the same sequence in the same (direct repeat) or reverse (inverted repeat or palindrome) orientation. This method of self-comparison can reveal several features, such as similarity between chromosomes, tandem genes, repeated domains in a protein sequence, regions of low sequence complexity where the same characters are often repeated, or self-comple-mentary sequences in RNA that can potentially base-pair to give a double-stranded struc-ture. Because diagonals may not always be apparent on the graph due to weak similarity, Gibbs and McIntyre counted all possible diagonals and these counts were compared to those of random sequences to identify the most significant alignments.\n",
    "</p>\n",
    "\n",
    "<i><strong>Note :</strong> Maizel and Lenk (1981) later developed various filtering and color display schemes that greatly increased the usefulness of the dot matrix method.</i>"
   ]
  },
  {
   "cell_type": "markdown",
   "metadata": {},
   "source": [
    "<h3 style=\"text-aligh:center\">Algorithm : </h3>\n",
    "<p> Step 1 : Calculate the matrix space</p>\n",
    "<pre>\n",
    "// for every i within length of sequence 1\n",
    "// loop j form 0 to legth of sequence 2 and\n",
    "// check the equality of both seqence to get\n",
    "// mXn matrix where m,n = length of seq1, seq2\n",
    "\n",
    "for(i=0; i&lt;seq1.length(); i++)\n",
    "    for(j=0; j&lt;seq1.length; j++)\n",
    "        data[i][j] = (seq1[i] != seq2[j])\n",
    "\n",
    "</pre>\n",
    "\n",
    "<p>Step 2: Plot the data</p>\n",
    "<pre>\n",
    "<code>\n",
    "imshow(data)\n",
    "</code>\n",
    "</pre>"
   ]
  },
  {
   "cell_type": "code",
   "execution_count": 1,
   "metadata": {},
   "outputs": [],
   "source": [
    "# importing necessary modules\n",
    "from matplotlib import pyplot as plt"
   ]
  },
  {
   "cell_type": "code",
   "execution_count": 2,
   "metadata": {},
   "outputs": [],
   "source": [
    "# sequence data\n",
    "seq1 = \"agctaggacggta\"\n",
    "seq2 = \"gactaggcagcag\""
   ]
  },
  {
   "cell_type": "code",
   "execution_count": 3,
   "metadata": {},
   "outputs": [
    {
     "data": {
      "text/plain": [
       "[[1, 0, 1, 1, 0, 1, 1, 1, 0, 1, 1, 0, 1],\n",
       " [0, 1, 1, 1, 1, 0, 0, 1, 1, 0, 1, 1, 0],\n",
       " [1, 1, 0, 1, 1, 1, 1, 0, 1, 1, 0, 1, 1],\n",
       " [1, 1, 1, 0, 1, 1, 1, 1, 1, 1, 1, 1, 1],\n",
       " [1, 0, 1, 1, 0, 1, 1, 1, 0, 1, 1, 0, 1],\n",
       " [0, 1, 1, 1, 1, 0, 0, 1, 1, 0, 1, 1, 0],\n",
       " [0, 1, 1, 1, 1, 0, 0, 1, 1, 0, 1, 1, 0],\n",
       " [1, 0, 1, 1, 0, 1, 1, 1, 0, 1, 1, 0, 1],\n",
       " [1, 1, 0, 1, 1, 1, 1, 0, 1, 1, 0, 1, 1],\n",
       " [0, 1, 1, 1, 1, 0, 0, 1, 1, 0, 1, 1, 0],\n",
       " [0, 1, 1, 1, 1, 0, 0, 1, 1, 0, 1, 1, 0],\n",
       " [1, 1, 1, 0, 1, 1, 1, 1, 1, 1, 1, 1, 1],\n",
       " [1, 0, 1, 1, 0, 1, 1, 1, 0, 1, 1, 0, 1]]"
      ]
     },
     "execution_count": 3,
     "metadata": {},
     "output_type": "execute_result"
    }
   ],
   "source": [
    "# calculating the matrix\n",
    "data = [[int(seq1[i:i + 1] != seq2[j:j + 1]) for j in range(len(seq1))] for i in range(len(seq2))]\n",
    "data"
   ]
  },
  {
   "cell_type": "code",
   "execution_count": 4,
   "metadata": {},
   "outputs": [
    {
     "data": {
      "image/png": "[encoded data removed]",
      "text/plain": [
       "<Figure size 640x640 with 1 Axes>"
      ]
     },
     "metadata": {},
     "output_type": "display_data"
    }
   ],
   "source": [
    "# plotting the data \n",
    "plt.figure(figsize=(8,8), dpi=80)\n",
    "plt.xticks([xt for xt in range(len(seq1))],seq1.upper())\n",
    "plt.yticks([yt for yt in range(len(seq2))],seq2.upper())\n",
    "plt.imshow(data)\n",
    "plt.show()"
   ]
  }
 ],
 "metadata": {
  "kernelspec": {
   "display_name": "Python 3",
   "language": "python",
   "name": "python3"
  },
  "language_info": {
   "codemirror_mode": {
    "name": "ipython",
    "version": 3
   },
   "file_extension": ".py",
   "mimetype": "text/x-python",
   "name": "python",
   "nbconvert_exporter": "python",
   "pygments_lexer": "ipython3",
   "version": "3.7.2"
  }
 },
 "nbformat": 4,
 "nbformat_minor": 2
}
