{
 "cells": [
  {
   "cell_type": "code",
   "execution_count": 1,
   "metadata": {},
   "outputs": [],
   "source": [
    "# * and ** variables\n",
    "# * -> non-keyworded arguments *args\n",
    "# ** -> key-worded argumnets **kwargs"
   ]
  },
  {
   "cell_type": "code",
   "execution_count": 15,
   "metadata": {},
   "outputs": [
    {
     "name": "stdout",
     "output_type": "stream",
     "text": [
      "0. baker\n",
      "1. shaker\n",
      "2. boom\n"
     ]
    }
   ],
   "source": [
    "# * is used to input list type data\n",
    "def test(farg, *argv):\n",
    "    for count, arg in enumerate(argv):\n",
    "        print('{0}. {1}'.format(count, arg))\n",
    "\n",
    "test('maker', 'baker', 'shaker', 'boom')"
   ]
  },
  {
   "cell_type": "code",
   "execution_count": 9,
   "metadata": {},
   "outputs": [
    {
     "name": "stdout",
     "output_type": "stream",
     "text": [
      "name == deepak\n"
     ]
    }
   ],
   "source": [
    "# ** is used to input dict type data\n",
    "def me(**name):\n",
    "    if name is not None:\n",
    "        for key, value in name.items():\n",
    "            print('%s == %s' %(key, value))\n",
    "me(name=\"deepak\")"
   ]
  },
  {
   "cell_type": "code",
   "execution_count": 11,
   "metadata": {},
   "outputs": [],
   "source": [
    "# using *args and **kwargs to call a function\n",
    "def testify(arg1, arg2, arg3):\n",
    "    print('arg1 : ', arg1)\n",
    "    print('arg2 : ', arg2)\n",
    "    print('arg3 : ', arg3)"
   ]
  },
  {
   "cell_type": "code",
   "execution_count": 11,
   "metadata": {},
   "outputs": [
    {
     "name": "stdout",
     "output_type": "stream",
     "text": [
      "arg1 :  alpha\n",
      "arg2 :  4\n",
      "arg3 :  1\n"
     ]
    }
   ],
   "source": [
    "# accessing with *arg\n",
    "args = (\"alpha\", 4, 1)\n",
    "testify(*args)"
   ]
  },
  {
   "cell_type": "code",
   "execution_count": 12,
   "metadata": {},
   "outputs": [
    {
     "name": "stdout",
     "output_type": "stream",
     "text": [
      "arg1 :  beta\n",
      "arg2 :  5\n",
      "arg3 :  2\n"
     ]
    }
   ],
   "source": [
    "# accessing with **kwargs\n",
    "kwargs = {'arg3':2, 'arg1':'beta', 'arg2':5}\n",
    "testify(**kwargs)"
   ]
  }
 ],
 "metadata": {
  "kernelspec": {
   "display_name": "Python 3",
   "language": "python",
   "name": "python3"
  },
  "language_info": {
   "codemirror_mode": {
    "name": "ipython",
    "version": 3
   },
   "file_extension": ".py",
   "mimetype": "text/x-python",
   "name": "python",
   "nbconvert_exporter": "python",
   "pygments_lexer": "ipython3",
   "version": "3.7.2"
  }
 },
 "nbformat": 4,
 "nbformat_minor": 2
}
