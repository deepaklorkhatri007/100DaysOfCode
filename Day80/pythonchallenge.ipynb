{
 "cells": [
  {
   "cell_type": "code",
   "execution_count": 1,
   "metadata": {},
   "outputs": [],
   "source": [
    "# modules needed\n",
    "from pprint import pprint\n",
    "from collections import Counter\n",
    "import urllib.request\n",
    "import re"
   ]
  },
  {
   "cell_type": "code",
   "execution_count": 2,
   "metadata": {},
   "outputs": [
    {
     "data": {
      "text/plain": [
       "'ocr.html'"
      ]
     },
     "execution_count": 2,
     "metadata": {},
     "output_type": "execute_result"
    }
   ],
   "source": [
    "# level 1\n",
    "string = \"g fmnc wms bgblr rpylqjyrc gr zw fylb. rfyrq ufyr amknsrcpq ypc dmp. bmgle gr gl zw fylb gq glcddgagclr ylb rfyr'q ufw rfgq rcvr gq qm jmle. sqgle qrpgle.kyicrpylq() gq pcamkkclbcb. lmu ynnjw ml rfc spj. \"\n",
    "url = \"map\"\n",
    "outb = \"abcdefghijklmnopqrstuvwxyz\"\n",
    "inb = \"cdefghijklmnopqrstuvwxyzab\" \n",
    "url.translate(str.maketrans(outb, inb))+'.html'"
   ]
  },
  {
   "cell_type": "code",
   "execution_count": 3,
   "metadata": {},
   "outputs": [
    {
     "name": "stdout",
     "output_type": "stream",
     "text": [
      "equality.html\n"
     ]
    }
   ],
   "source": [
    "# level 2\n",
    "html = urllib.request.urlopen('http://www.pythonchallenge.com/pc/def/ocr.html').read().decode(\"utf-8\")\n",
    "data = re.findall(\"<!--(.*?)-->\",html, re.DOTALL)[-1]\n",
    "counter = Counter(data)\n",
    "out = [x for x, y in counter.items() if y==1]\n",
    "print(\"\".join(out)+'.html')"
   ]
  },
  {
   "cell_type": "code",
   "execution_count": 4,
   "metadata": {},
   "outputs": [
    {
     "data": {
      "text/plain": [
       "'linkedlist.html'"
      ]
     },
     "execution_count": 4,
     "metadata": {},
     "output_type": "execute_result"
    }
   ],
   "source": [
    "# level 3\n",
    "html = urllib.request.urlopen('http://www.pythonchallenge.com/pc/def/equality.html').read().decode()\n",
    "data = re.findall(\"<!--(.*?)-->\", html, re.DOTALL)[-1]\n",
    "\"\".join(re.findall('[^A-Z]+[A-Z]{3}([a-z])[A-Z]{3}[^A-Z]+', data))+'.html'"
   ]
  },
  {
   "cell_type": "code",
   "execution_count": 5,
   "metadata": {},
   "outputs": [
    {
     "name": "stdout",
     "output_type": "stream",
     "text": [
      "searching ...\n",
      "peak.html \n"
     ]
    }
   ],
   "source": [
    "# level 4\n",
    "# starting with 12345\n",
    "# first clue = 16044/2 = 8022\n",
    "value = \"8022\"\n",
    "print(\"searching ...\")\n",
    "while value:\n",
    "    page = urllib.request.urlopen('http://www.pythonchallenge.com/pc/def/linkedlist.php?nothing='+value).read().decode('utf-8')\n",
    "    nothing = \"\".join(re.findall(\"nothing is [0-9]+\", page))\n",
    "    value = \"\".join(re.findall(\"[0-9]+\", nothing))\n",
    "print(page, value)"
   ]
  }
 ],
 "metadata": {
  "kernelspec": {
   "display_name": "Python 3",
   "language": "python",
   "name": "python3"
  },
  "language_info": {
   "codemirror_mode": {
    "name": "ipython",
    "version": 3
   },
   "file_extension": ".py",
   "mimetype": "text/x-python",
   "name": "python",
   "nbconvert_exporter": "python",
   "pygments_lexer": "ipython3",
   "version": "3.7.2"
  }
 },
 "nbformat": 4,
 "nbformat_minor": 2
}
