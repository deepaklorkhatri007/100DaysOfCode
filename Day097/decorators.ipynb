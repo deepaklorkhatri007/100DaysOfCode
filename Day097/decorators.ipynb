{
 "cells": [
  {
   "cell_type": "code",
   "execution_count": 2,
   "metadata": {},
   "outputs": [],
   "source": [
    "# decorators are special flavour of the function\n",
    "def sqr(x):\n",
    "    return x**2\n",
    "\n",
    "def null(f):\n",
    "    \"\"\"Always return None.\"\"\"\n",
    "return\n",
    "\n",
    "\n",
    "@null\n",
    "def nargs(*args, **kwargs):\n",
    "    return len(args) + len(kwargs)\n",
    "nargs = null(nargs)"
   ]
  },
  {
   "cell_type": "code",
   "execution_count": 10,
   "metadata": {},
   "outputs": [
    {
     "data": {
      "text/plain": [
       "3"
      ]
     },
     "execution_count": 10,
     "metadata": {},
     "output_type": "execute_result"
    }
   ],
   "source": [
    "# decorators can modify the code without changing the original code\n",
    "def plus1(f):\n",
    "    def wrapper(*args, **kwargs):\n",
    "        return f(*args, **kwargs) + 1\n",
    "    return wrapper\n",
    "@plus1\n",
    "def k(*args, **kwargs):\n",
    "    return len(args) + len(kwargs)\n",
    "\n",
    "\n",
    "k(2, 9) # this will return 2 + 1"
   ]
  },
  {
   "cell_type": "code",
   "execution_count": 11,
   "metadata": {},
   "outputs": [
    {
     "data": {
      "text/plain": [
       "8.0"
      ]
     },
     "execution_count": 11,
     "metadata": {},
     "output_type": "execute_result"
    }
   ],
   "source": [
    "# decoration factory\n",
    "def plus_n(n):\n",
    "    def dec(f):\n",
    "        def wrapper(*args, **kwargs):\n",
    "            return f(*args, **kwargs) + n\n",
    "        return wrapper\n",
    "    return dec\n",
    "\n",
    "@plus_n(6)\n",
    "def root(x):\n",
    "    return x**0.5\n",
    "root(4) # this will return 2 + 6"
   ]
  },
  {
   "cell_type": "markdown",
   "metadata": {},
   "source": [
    "# This I learned from chapter 5\n",
    "1. functions are reusable chunk of code.\n",
    "2. positional and keyword arguments\n",
    "3. multiple input and output from functions\n",
    "4. scope of functions\n",
    "5. recursion, lambdas, generators, decorators ;)"
   ]
  }
 ],
 "metadata": {
  "kernelspec": {
   "display_name": "Python 3",
   "language": "python",
   "name": "python3"
  },
  "language_info": {
   "codemirror_mode": {
    "name": "ipython",
    "version": 3
   },
   "file_extension": ".py",
   "mimetype": "text/x-python",
   "name": "python",
   "nbconvert_exporter": "python",
   "pygments_lexer": "ipython3",
   "version": "3.7.4"
  }
 },
 "nbformat": 4,
 "nbformat_minor": 4
}
